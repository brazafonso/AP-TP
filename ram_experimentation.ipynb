{
 "cells": [
  {
   "cell_type": "code",
   "execution_count": 1,
   "metadata": {},
   "outputs": [],
   "source": [
    "\"\"\"Import libraries\"\"\"\n",
    "import gymnasium as gym\n",
    "from gym import Env\n",
    "import stable_baselines3\n",
    "import numpy as np\n",
    "import matplotlib.pyplot as plt\n",
    "import random\n",
    "import time\n",
    "from IPython.display import clear_output\n",
    "from time import sleep\n",
    "from matplotlib import animation"
   ]
  },
  {
   "attachments": {},
   "cell_type": "markdown",
   "metadata": {},
   "source": [
    "# **1. Starting the Pitfall environment in RAM mode**"
   ]
  },
  {
   "cell_type": "code",
   "execution_count": 354,
   "metadata": {},
   "outputs": [],
   "source": [
    "env = gym.make(\"ALE/Pitfall-v5\", render_mode=\"rgb_array\", obs_type=\"ram\").env"
   ]
  },
  {
   "cell_type": "code",
   "execution_count": 355,
   "metadata": {},
   "outputs": [
    {
     "data": {
      "text/plain": [
       "(array([160, 196,   2,  14, 128,   2,  65,   0, 255,  12,  12, 210, 214,\n",
       "          0,  16,  20,  24,   0,  10,   4,   0,  80,  32,  80,   1,   8,\n",
       "          9, 244,  64, 255,   0, 127, 127, 127, 127, 255, 255, 255, 255,\n",
       "         18,  18,  18,  18,  18,  18,  18,  94, 118, 126,  94, 118,  60,\n",
       "         24, 110, 251,   0, 253,  33, 252,   0, 254, 176, 253,  96, 254,\n",
       "        176, 253,  96, 254,  88, 255, 104, 255, 120, 255, 136, 255, 152,\n",
       "        255, 168, 255,   0,   1,   1,   0,   0,  32,   0,  32,   0,  58,\n",
       "          0,   0,  16,   0, 143,   0,  16, 124, 136,   5,   0,   0,   0,\n",
       "          0,  32,   0,   3,   0,   0,   0,   0,   0,  31,   0,   0,   0,\n",
       "          0,   0, 255,   0,   0,   0,   0,  57, 243, 144, 245], dtype=uint8),\n",
       " {'lives': 3, 'episode_frame_number': 0, 'frame_number': 0})"
      ]
     },
     "execution_count": 355,
     "metadata": {},
     "output_type": "execute_result"
    }
   ],
   "source": [
    "env.reset()"
   ]
  },
  {
   "cell_type": "code",
   "execution_count": 356,
   "metadata": {},
   "outputs": [
    {
     "name": "stdout",
     "output_type": "stream",
     "text": [
      "Observation Space: \n",
      "[160 196   2  14 128   2  65   0 255  12  12 210 214   0  16  20  24   0\n",
      "  10   4   0  80  32  80   1   8   9 244  64 255   0 127 127 127 127 255\n",
      " 255 255 255  18  18  18  18  18  18  18  94 118 126  94 118  60  24 110\n",
      " 251   0 253  33 252   0 254 176 253  96 254 176 253  96 254  88 255 104\n",
      " 255 120 255 136 255 152 255 168 255   0   1   1   0   0  32   0  32   0\n",
      "  58   0   0  16   0 143   0  16 124 136   5   0   0   0   0  32   0   3\n",
      "   0   0   0   0   0  31   0   0   0   0   0 255   0   0   0   0  57 243\n",
      " 144 245]\n",
      "Info: {'lives': 3, 'episode_frame_number': 0, 'frame_number': 0}\n"
     ]
    }
   ],
   "source": [
    "obs, info = env.reset()\n",
    "print(\"Observation Space: \\n{}\".format(obs))\n",
    "print(\"Info: {}\".format(info))"
   ]
  },
  {
   "cell_type": "code",
   "execution_count": null,
   "metadata": {},
   "outputs": [],
   "source": [
    "# Print dimensions of state and action space\n",
    "print(\"State space: {}\".format(env.observation_space))\n",
    "print(f\"Action space: {env.action_space}\")\n",
    "print(f\"Action space: {env.unwrapped.get_action_meanings()}\")\n",
    "\n",
    "# Sample random action\n",
    "action = 4\n",
    "#action = env.action_space.sample()\n",
    "print(\"Action: {}\".format(action))\n",
    "next_state, reward, done,_,info = env.step(action)\n",
    "\n",
    "# Print output\n",
    "print(\"Reward: {}\".format(reward))\n",
    "print(f\"State done :{done}\")\n",
    "print(f\"State info :{info}\")\n",
    "print(\"Observation Space: \\n{}\".format(next_state)) \n",
    "\n",
    "# Render and plot an environment frame\n",
    "frame = env.render()\n",
    "plt.imshow(frame)\n",
    "plt.axis(\"off\")\n",
    "plt.show()"
   ]
  },
  {
   "cell_type": "code",
   "execution_count": 386,
   "metadata": {},
   "outputs": [],
   "source": [
    "def run_animation(experience_buffer):\n",
    "    \"\"\"Function to run animation\"\"\"\n",
    "    time_lag = 0.05  # Delay (in s) between frames\n",
    "    for experience in experience_buffer:\n",
    "        # Plot frame\n",
    "        clear_output(wait=True)\n",
    "        plt.imshow(experience['frame'])\n",
    "        plt.axis('off')\n",
    "        plt.show()\n",
    "\n",
    "        \n",
    "        print(f\"Episode: {experience['episode']}/{experience_buffer[-1]['episode']}\")\n",
    "        print(f\"Epoch: {experience['epoch']}/{experience_buffer[-1]['epoch']}\")\n",
    "        #print(f\"State: {experience['state']}\")\n",
    "        print(f\"Action: {experience['action']}\")\n",
    "        print(f\"Reward: {experience['reward']}\")\n",
    "        # Pauze animation\n",
    "        sleep(time_lag)"
   ]
  },
  {
   "cell_type": "code",
   "execution_count": 390,
   "metadata": {},
   "outputs": [],
   "source": [
    "def store_episode_as_gif(experience_buffer, path='./', filename='animation.gif'):\n",
    "    \"\"\"Store episode as gif animation\"\"\"\n",
    "    fps = 5   # Set framew per seconds\n",
    "    dpi = 300  # Set dots per inch\n",
    "    interval = 50  # Interval between frames (in ms)\n",
    "\n",
    "    # Retrieve frames from experience buffer\n",
    "    frames = []\n",
    "    for experience in experience_buffer:\n",
    "        frames.append(experience['frame'])\n",
    "\n",
    "    # Fix frame size\n",
    "    plt.figure(figsize=(frames[0].shape[1] / dpi, frames[0].shape[0] / dpi), dpi=dpi)\n",
    "    patch = plt.imshow(frames[0])\n",
    "    plt.axis('off')\n",
    "\n",
    "    # Generate animation\n",
    "    def animate(i):\n",
    "        patch.set_data(frames[i])\n",
    "\n",
    "    anim = animation.FuncAnimation(plt.gcf(), animate, frames=len(frames), interval=interval)\n",
    "\n",
    "    # Save output as gif\n",
    "    anim.save(path + filename, writer='Pillow', fps=fps)"
   ]
  },
  {
   "cell_type": "code",
   "execution_count": 399,
   "metadata": {},
   "outputs": [
    {
     "data": {
      "image/png": "[encoded data removed]",
      "text/plain": [
       "<Figure size 640x480 with 1 Axes>"
      ]
     },
     "metadata": {},
     "output_type": "display_data"
    },
    {
     "name": "stdout",
     "output_type": "stream",
     "text": [
      "Episode: 1/1\n",
      "Epoch: 399/399\n",
      "Action: 0\n",
      "Reward: -140.0\n",
      "# epochs: 400\n",
      "# failed drop-offs: 0\n",
      "# Rooms visited: [196, 137]\n"
     ]
    }
   ],
   "source": [
    "\"\"\"Simulation with random agent\"\"\"\n",
    "epoch = 0\n",
    "num_failed_dropoffs = 0\n",
    "experience_buffer = []\n",
    "cum_reward = 0\n",
    "\n",
    "done = False\n",
    "\n",
    "state = env.reset()\n",
    "\n",
    "old_state = state[0][1]\n",
    "\n",
    "room_list = [old_state]\n",
    "\n",
    "#while not done: ## full run - takes a long time\n",
    "while epoch < 400:\n",
    "    # Sample random action\n",
    "    \"Action selection without action mask\"\n",
    "    if(epoch%2==0):\n",
    "        action = 11\n",
    "    else:\n",
    "        action = 0\n",
    "    \n",
    "    #for left exploration results\n",
    "    #action = 4 \n",
    "    \"Action selection with action mask\"\n",
    "    #action = env.action_space.sample(env.action_mask(state))\n",
    "\n",
    "    state, reward, done, _,info = env.step(action)\n",
    "    cum_reward += reward\n",
    "\n",
    "    if state[1] != old_state:\n",
    "        old_state = state[1]\n",
    "        room_list.append(state[1])\n",
    "\n",
    "    # Store experience in dictionary\n",
    "    experience_buffer.append({\n",
    "        \"frame\": env.render(),\n",
    "        \"episode\": 1,\n",
    "        \"epoch\": epoch,\n",
    "        \"state\": state,\n",
    "        \"action\": action,\n",
    "        \"reward\": cum_reward,\n",
    "        }\n",
    "    )\n",
    "\n",
    "    if reward == -10:\n",
    "        num_failed_dropoffs += 1\n",
    "\n",
    "    epoch += 1\n",
    "\n",
    "# Run animation and print console output\n",
    "run_animation(experience_buffer)\n",
    "#store_episode_as_gif(experience_buffer)\n",
    "\n",
    "print(\"# epochs: {}\".format(epoch))\n",
    "print(\"# failed drop-offs: {}\".format(num_failed_dropoffs))\n",
    "print(\"# Rooms visited: {}\".format(room_list))"
   ]
  },
  {
   "attachments": {},
   "cell_type": "markdown",
   "metadata": {},
   "source": [
    "Left ROOM's (Room-1<-Start)\n",
    "\n",
    "196 = 11000100\n",
    "226 = 11100010\n",
    "113 = 01110001\n",
    " 56 = 00111000\n",
    " 28 = 00011100\n",
    "142 = 10001110\n",
    "\n",
    "Right ROOM's (Start->Room+1)\n",
    "\n",
    "196 = 11000100\n",
    "137 = 10001001"
   ]
  },
  {
   "cell_type": "code",
   "execution_count": 470,
   "metadata": {},
   "outputs": [
    {
     "name": "stdout",
     "output_type": "stream",
     "text": [
      "Decimal 196; Binary: 11000100\n",
      "Old Number: 11000100\n",
      "Left Shift Result: 10001000\n",
      "Left Shift + bit0XOR: 10001001\n",
      "Decimal Number: 137\n",
      "[(196, 0), (137, 0), (18, 0), (37, 0), (75, 0), (151, 0), (46, 0), (92, 0), (184, 0), (112, 0), (224, 0), (192, 0), (129, 0), (3, 0), (6, 0), (12, 0), (25, 0), (50, 0), (100, 0), (201, 0), (146, 0), (36, 0), (73, 0), (147, 0), (38, 0), (77, 0), (155, 0), (55, 0), (110, 0), (220, 0), (185, 0), (114, 0), (228, 0), (200, 0), (144, 0), (32, 0), (65, 0), (130, 0), (5, 0), (10, 0), (21, 0), (43, 0), (86, 0), (173, 0), (91, 0), (182, 0), (109, 0), (218, 0), (181, 0), (107, 0), (214, 0), (172, 0), (89, 0), (178, 0), (101, 0), (203, 0), (150, 0), (44, 0), (88, 0), (176, 0), (97, 0), (195, 0), (135, 0), (15, 0), (31, 0), (62, 0), (125, 0), (251, 0), (246, 0), (237, 0), (219, 0), (183, 0), (111, 0), (222, 0), (189, 0), (122, 0), (245, 0), (235, 0), (215, 0), (174, 0), (93, 0), (186, 0), (116, 0), (232, 0), (209, 0), (162, 0), (68, 0), (136, 0), (16, 0), (33, 0), (67, 0), (134, 0), (13, 0), (27, 0), (54, 0), (108, 0), (216, 0), (177, 0), (99, 0), (199, 0), (143, 0), (30, 0), (60, 0), (121, 0), (243, 0), (231, 0), (206, 0), (156, 0), (57, 0), (115, 0), (230, 0), (204, 0), (152, 0), (49, 0), (98, 0), (197, 0), (139, 0), (22, 0), (45, 0), (90, 0), (180, 0), (105, 0), (210, 0), (164, 0), (72, 0), (145, 0), (34, 0), (69, 0), (138, 0), (20, 0), (41, 0), (82, 0), (165, 0), (74, 0), (149, 0), (42, 0), (84, 0), (169, 0), (83, 0), (167, 0), (78, 0), (157, 0), (59, 0), (119, 0), (238, 0), (221, 0), (187, 0), (118, 0), (236, 0), (217, 0), (179, 0), (103, 0), (207, 0), (158, 0), (61, 0), (123, 0), (247, 0), (239, 0), (223, 0), (191, 0), (126, 0), (253, 0), (250, 0), (244, 0), (233, 0), (211, 0), (166, 0), (76, 0), (153, 0), (51, 0), (102, 0), (205, 0), (154, 0), (53, 0), (106, 0), (212, 0), (168, 0), (81, 0), (163, 0), (70, 0), (140, 0), (24, 0), (48, 0), (96, 0), (193, 0), (131, 0), (7, 0), (14, 0), (29, 0), (58, 0), (117, 0), (234, 0), (213, 0), (170, 0), (85, 0), (171, 0), (87, 0), (175, 0), (95, 0), (190, 0), (124, 0), (249, 0), (242, 0), (229, 0), (202, 0), (148, 0), (40, 0), (80, 0), (161, 0), (66, 0), (132, 0), (9, 0), (19, 0), (39, 0), (79, 0), (159, 0), (63, 0), (127, 0), (255, 0), (254, 0), (252, 0), (248, 0), (240, 0), (225, 0), (194, 0), (133, 0), (11, 0), (23, 0), (47, 0), (94, 0), (188, 0), (120, 0), (241, 0), (227, 0), (198, 0), (141, 0), (26, 0), (52, 0), (104, 0), (208, 0), (160, 0), (64, 0), (128, 0), (1, 0), (2, 0), (4, 0), (8, 0), (17, 0), (35, 0), (71, 0), (142, 0), (28, 0), (56, 0), (113, 0), (226, 0)]\n",
      "255\n",
      "255\n"
     ]
    }
   ],
   "source": [
    "num = 196\n",
    "#num = 56\n",
    "print(f\"Decimal {num}; Binary: {bin(num)[2:]}\")\n",
    "\n",
    "\n",
    "def left_shift(num):\n",
    "    '''Recebe um número inteiro em formato decimal e realiza o seu left shift binário'''\n",
    "    num_bin = bin(num)[2:].zfill(8)\n",
    "    num_left_shift = bin(num << 1)\n",
    "    if(len(num_left_shift)>10):\n",
    "        remove = len(num_left_shift) - 8\n",
    "        num_left_shift = num_left_shift[remove:]\n",
    "    else:\n",
    "        num_left_shift = (num_left_shift[2:]).zfill(8)\n",
    "    return num_left_shift,num_bin\n",
    "\n",
    "ls_num,old_num = left_shift(num)\n",
    "\n",
    "def bit0_XOR(ls_num,old_num):\n",
    "    '''Recebe uma string que representa um número binário e realiza a operação de XOR descrita no site: \n",
    "    https://evoniuk.github.io/posts/pitfall.html'''\n",
    "    bzero = bool(int(old_num[4])) ^ bool(int(old_num[3])) ^ bool(int(old_num[2])) ^ bool(int(old_num[0]))\n",
    "    #print(old_num[4],old_num[3],old_num[2],old_num[0])\n",
    "    #print(bool(int(old_num[4])),bool(int(old_num[3])),bool(int(old_num[2])),bool(int(old_num[0])))\n",
    "    int_num = int(ls_num) \n",
    "    int_num += bzero\n",
    "    str_num = str(int_num).zfill(8)\n",
    "    return str_num\n",
    "\n",
    "next_screen = bit0_XOR(ls_num,old_num)\n",
    "\n",
    "print(f\"Old Number: {old_num}\\nLeft Shift Result: {ls_num}\")\n",
    "print(f\"Left Shift + bit0XOR: {next_screen}\")\n",
    "print(f\"Decimal Number: {int(next_screen,2)}\")\n"
   ]
  },
  {
   "cell_type": "code",
   "execution_count": null,
   "metadata": {},
   "outputs": [],
   "source": [
    "def build_screen_number_list(num):\n",
    "\n",
    "    screen_number_list = [(num,0)]\n",
    "\n",
    "    for i in range(0,254):\n",
    "        ls_num,old_num = left_shift(num)\n",
    "        next_screen = bit0_XOR(ls_num,old_num)\n",
    "        num = int(next_screen,2)\n",
    "        screen_number_list.append((num,0))\n",
    "\n",
    "    return screen_number_list\n",
    "\n",
    "first_screen_number = 196\n",
    "\n",
    "screen_number_list = build_screen_number_list(first_screen_number)\n",
    "\n",
    "#print(screen_number_list)\n",
    "\n",
    "#print(build_screen_number_list(num))\n",
    "#print(len(build_screen_number_list(num)))\n",
    "#print(len(set(build_screen_number_list(num))))\n",
    "\n",
    "# Indices retirados do site https://pitfallharry.tripod.com/MapRoom/PitfallMap.html\n",
    "treasure_index_list_verify = [7,29,42,44,47,50,52,58,70,73,78,80,84,96,119,122,131,136,138,145,149,158,165,175,177,192,194,196,198,207,229,239]\n",
    "\n",
    "#Indices subtraindo 1 para ficarmos com os valores dno intervalo [0,254]\n",
    "treasure_index_list = [6,28,41,43,46,49,51,57,69,72,77,79,83,95,118,121,130,135,137,144,148,157,164,174,176,191,193,195,197,206,228,238]\n",
    "\n",
    "# Verificar se a lista de indices tinha ficado bem construida\n",
    "#tilv = [ x-1 for x in treasure_index_list_verify]\n",
    "#for index, (first, second) in enumerate(zip(tilv, treasure_index_list)):\n",
    "#    if first != second:\n",
    "#        print(index, second)\n",
    "\n",
    "\n",
    "def place_treasures(screen_number_list,treasure_index_list):\n",
    "    for index in treasure_index_list:\n",
    "        screen_number_list[index] = (screen_number_list[index][0],1)\n",
    "    return screen_number_list\n",
    "\n",
    "print(place_treasures(screen_number_list,treasure_index_list)) "
   ]
  }
 ],
 "metadata": {
  "kernelspec": {
   "display_name": "ap",
   "language": "python",
   "name": "python3"
  },
  "language_info": {
   "codemirror_mode": {
    "name": "ipython",
    "version": 3
   },
   "file_extension": ".py",
   "mimetype": "text/x-python",
   "name": "python",
   "nbconvert_exporter": "python",
   "pygments_lexer": "ipython3",
   "version": "3.10.11"
  },
  "orig_nbformat": 4
 },
 "nbformat": 4,
 "nbformat_minor": 2
}
