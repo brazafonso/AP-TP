{
 "cells": [
  {
   "attachments": {},
   "cell_type": "markdown",
   "metadata": {},
   "source": [
    "# 1. Install Dependencies"
   ]
  },
  {
   "cell_type": "code",
   "execution_count": 9,
   "metadata": {},
   "outputs": [
    {
     "name": "stdout",
     "output_type": "stream",
     "text": [
      "Requirement already satisfied: gymnasium in /home/rubensas/anaconda3/envs/MEI_SI/lib/python3.10/site-packages (0.28.1)\n",
      "Requirement already satisfied: typing-extensions>=4.3.0 in /home/rubensas/anaconda3/envs/MEI_SI/lib/python3.10/site-packages (from gymnasium) (4.4.0)\n",
      "Requirement already satisfied: jax-jumpy>=1.0.0 in /home/rubensas/anaconda3/envs/MEI_SI/lib/python3.10/site-packages (from gymnasium) (1.0.0)\n",
      "Requirement already satisfied: numpy>=1.21.0 in /home/rubensas/anaconda3/envs/MEI_SI/lib/python3.10/site-packages (from gymnasium) (1.23.5)\n",
      "Requirement already satisfied: farama-notifications>=0.0.1 in /home/rubensas/anaconda3/envs/MEI_SI/lib/python3.10/site-packages (from gymnasium) (0.0.4)\n",
      "Requirement already satisfied: cloudpickle>=1.2.0 in /home/rubensas/anaconda3/envs/MEI_SI/lib/python3.10/site-packages (from gymnasium) (2.2.1)\n",
      "Note: you may need to restart the kernel to use updated packages.\n",
      "Requirement already satisfied: gymnasium[atari] in /home/rubensas/anaconda3/envs/MEI_SI/lib/python3.10/site-packages (0.28.1)\n",
      "Requirement already satisfied: numpy>=1.21.0 in /home/rubensas/anaconda3/envs/MEI_SI/lib/python3.10/site-packages (from gymnasium[atari]) (1.23.5)\n",
      "Requirement already satisfied: jax-jumpy>=1.0.0 in /home/rubensas/anaconda3/envs/MEI_SI/lib/python3.10/site-packages (from gymnasium[atari]) (1.0.0)\n",
      "Requirement already satisfied: typing-extensions>=4.3.0 in /home/rubensas/anaconda3/envs/MEI_SI/lib/python3.10/site-packages (from gymnasium[atari]) (4.4.0)\n",
      "Requirement already satisfied: cloudpickle>=1.2.0 in /home/rubensas/anaconda3/envs/MEI_SI/lib/python3.10/site-packages (from gymnasium[atari]) (2.2.1)\n",
      "Requirement already satisfied: farama-notifications>=0.0.1 in /home/rubensas/anaconda3/envs/MEI_SI/lib/python3.10/site-packages (from gymnasium[atari]) (0.0.4)\n",
      "Requirement already satisfied: shimmy[atari]<1.0,>=0.1.0 in /home/rubensas/anaconda3/envs/MEI_SI/lib/python3.10/site-packages (from gymnasium[atari]) (0.2.1)\n",
      "Requirement already satisfied: ale-py~=0.8.1 in /home/rubensas/anaconda3/envs/MEI_SI/lib/python3.10/site-packages (from shimmy[atari]<1.0,>=0.1.0->gymnasium[atari]) (0.8.1)\n",
      "Requirement already satisfied: importlib-resources in /home/rubensas/anaconda3/envs/MEI_SI/lib/python3.10/site-packages (from ale-py~=0.8.1->shimmy[atari]<1.0,>=0.1.0->gymnasium[atari]) (5.12.0)\n",
      "Note: you may need to restart the kernel to use updated packages.\n",
      "Requirement already satisfied: gymnasium[accept-rom-license] in /home/rubensas/anaconda3/envs/MEI_SI/lib/python3.10/site-packages (0.28.1)\n",
      "Requirement already satisfied: farama-notifications>=0.0.1 in /home/rubensas/anaconda3/envs/MEI_SI/lib/python3.10/site-packages (from gymnasium[accept-rom-license]) (0.0.4)\n",
      "Requirement already satisfied: typing-extensions>=4.3.0 in /home/rubensas/anaconda3/envs/MEI_SI/lib/python3.10/site-packages (from gymnasium[accept-rom-license]) (4.4.0)\n",
      "Requirement already satisfied: numpy>=1.21.0 in /home/rubensas/anaconda3/envs/MEI_SI/lib/python3.10/site-packages (from gymnasium[accept-rom-license]) (1.23.5)\n",
      "Requirement already satisfied: jax-jumpy>=1.0.0 in /home/rubensas/anaconda3/envs/MEI_SI/lib/python3.10/site-packages (from gymnasium[accept-rom-license]) (1.0.0)\n",
      "Requirement already satisfied: cloudpickle>=1.2.0 in /home/rubensas/anaconda3/envs/MEI_SI/lib/python3.10/site-packages (from gymnasium[accept-rom-license]) (2.2.1)\n",
      "Collecting autorom[accept-rom-license]~=0.4.2\n",
      "  Using cached AutoROM-0.4.2-py3-none-any.whl (16 kB)\n",
      "Requirement already satisfied: click in /home/rubensas/anaconda3/envs/MEI_SI/lib/python3.10/site-packages (from autorom[accept-rom-license]~=0.4.2->gymnasium[accept-rom-license]) (8.1.3)\n",
      "Requirement already satisfied: requests in /home/rubensas/anaconda3/envs/MEI_SI/lib/python3.10/site-packages (from autorom[accept-rom-license]~=0.4.2->gymnasium[accept-rom-license]) (2.28.2)\n",
      "Requirement already satisfied: tqdm in /home/rubensas/anaconda3/envs/MEI_SI/lib/python3.10/site-packages (from autorom[accept-rom-license]~=0.4.2->gymnasium[accept-rom-license]) (4.65.0)\n",
      "Requirement already satisfied: AutoROM.accept-rom-license in /home/rubensas/anaconda3/envs/MEI_SI/lib/python3.10/site-packages (from autorom[accept-rom-license]~=0.4.2->gymnasium[accept-rom-license]) (0.6.1)\n",
      "Requirement already satisfied: certifi>=2017.4.17 in /home/rubensas/anaconda3/envs/MEI_SI/lib/python3.10/site-packages (from requests->autorom[accept-rom-license]~=0.4.2->gymnasium[accept-rom-license]) (2023.5.7)\n",
      "Requirement already satisfied: idna<4,>=2.5 in /home/rubensas/anaconda3/envs/MEI_SI/lib/python3.10/site-packages (from requests->autorom[accept-rom-license]~=0.4.2->gymnasium[accept-rom-license]) (3.4)\n",
      "Requirement already satisfied: charset-normalizer<4,>=2 in /home/rubensas/anaconda3/envs/MEI_SI/lib/python3.10/site-packages (from requests->autorom[accept-rom-license]~=0.4.2->gymnasium[accept-rom-license]) (2.1.1)\n",
      "Requirement already satisfied: urllib3<1.27,>=1.21.1 in /home/rubensas/anaconda3/envs/MEI_SI/lib/python3.10/site-packages (from requests->autorom[accept-rom-license]~=0.4.2->gymnasium[accept-rom-license]) (1.26.14)\n",
      "Installing collected packages: autorom\n",
      "  Attempting uninstall: autorom\n",
      "    Found existing installation: AutoROM 0.6.1\n",
      "    Uninstalling AutoROM-0.6.1:\n",
      "      Successfully uninstalled AutoROM-0.6.1\n",
      "Successfully installed autorom-0.4.2\n",
      "Note: you may need to restart the kernel to use updated packages.\n",
      "Requirement already satisfied: shimmy>=0.2.1 in /home/rubensas/anaconda3/envs/MEI_SI/lib/python3.10/site-packages (0.2.1)\n",
      "Requirement already satisfied: gymnasium>=0.27.0 in /home/rubensas/anaconda3/envs/MEI_SI/lib/python3.10/site-packages (from shimmy>=0.2.1) (0.28.1)\n",
      "Requirement already satisfied: numpy>=1.18.0 in /home/rubensas/anaconda3/envs/MEI_SI/lib/python3.10/site-packages (from shimmy>=0.2.1) (1.23.5)\n",
      "Requirement already satisfied: farama-notifications>=0.0.1 in /home/rubensas/anaconda3/envs/MEI_SI/lib/python3.10/site-packages (from gymnasium>=0.27.0->shimmy>=0.2.1) (0.0.4)\n",
      "Requirement already satisfied: jax-jumpy>=1.0.0 in /home/rubensas/anaconda3/envs/MEI_SI/lib/python3.10/site-packages (from gymnasium>=0.27.0->shimmy>=0.2.1) (1.0.0)\n",
      "Requirement already satisfied: typing-extensions>=4.3.0 in /home/rubensas/anaconda3/envs/MEI_SI/lib/python3.10/site-packages (from gymnasium>=0.27.0->shimmy>=0.2.1) (4.4.0)\n",
      "Requirement already satisfied: cloudpickle>=1.2.0 in /home/rubensas/anaconda3/envs/MEI_SI/lib/python3.10/site-packages (from gymnasium>=0.27.0->shimmy>=0.2.1) (2.2.1)\n",
      "Note: you may need to restart the kernel to use updated packages.\n",
      "Requirement already satisfied: torch in /home/rubensas/.local/lib/python3.10/site-packages (2.0.1)\n",
      "Requirement already satisfied: torchvision in /home/rubensas/.local/lib/python3.10/site-packages (0.15.2)\n",
      "Requirement already satisfied: torchaudio in /home/rubensas/anaconda3/envs/MEI_SI/lib/python3.10/site-packages (2.0.0)\n",
      "Requirement already satisfied: jinja2 in /home/rubensas/anaconda3/envs/MEI_SI/lib/python3.10/site-packages (from torch) (3.1.2)\n",
      "Requirement already satisfied: nvidia-cufft-cu11==10.9.0.58 in /home/rubensas/.local/lib/python3.10/site-packages (from torch) (10.9.0.58)\n",
      "Requirement already satisfied: typing-extensions in /home/rubensas/anaconda3/envs/MEI_SI/lib/python3.10/site-packages (from torch) (4.4.0)\n",
      "Requirement already satisfied: nvidia-cusparse-cu11==11.7.4.91 in /home/rubensas/.local/lib/python3.10/site-packages (from torch) (11.7.4.91)\n",
      "Requirement already satisfied: nvidia-nccl-cu11==2.14.3 in /home/rubensas/.local/lib/python3.10/site-packages (from torch) (2.14.3)\n",
      "Requirement already satisfied: nvidia-cublas-cu11==11.10.3.66 in /home/rubensas/.local/lib/python3.10/site-packages (from torch) (11.10.3.66)\n",
      "Requirement already satisfied: networkx in /home/rubensas/.local/lib/python3.10/site-packages (from torch) (3.1)\n",
      "Requirement already satisfied: nvidia-cusolver-cu11==11.4.0.1 in /home/rubensas/.local/lib/python3.10/site-packages (from torch) (11.4.0.1)\n",
      "Requirement already satisfied: filelock in /home/rubensas/anaconda3/envs/MEI_SI/lib/python3.10/site-packages (from torch) (3.9.0)\n",
      "Requirement already satisfied: triton==2.0.0 in /home/rubensas/.local/lib/python3.10/site-packages (from torch) (2.0.0)\n",
      "Requirement already satisfied: nvidia-nvtx-cu11==11.7.91 in /home/rubensas/.local/lib/python3.10/site-packages (from torch) (11.7.91)\n",
      "Requirement already satisfied: nvidia-cuda-runtime-cu11==11.7.99 in /home/rubensas/.local/lib/python3.10/site-packages (from torch) (11.7.99)\n",
      "Requirement already satisfied: nvidia-cuda-cupti-cu11==11.7.101 in /home/rubensas/.local/lib/python3.10/site-packages (from torch) (11.7.101)\n",
      "Requirement already satisfied: nvidia-curand-cu11==10.2.10.91 in /home/rubensas/.local/lib/python3.10/site-packages (from torch) (10.2.10.91)\n",
      "Requirement already satisfied: nvidia-cuda-nvrtc-cu11==11.7.99 in /home/rubensas/.local/lib/python3.10/site-packages (from torch) (11.7.99)\n",
      "Requirement already satisfied: nvidia-cudnn-cu11==8.5.0.96 in /home/rubensas/.local/lib/python3.10/site-packages (from torch) (8.5.0.96)\n",
      "Requirement already satisfied: sympy in /home/rubensas/anaconda3/envs/MEI_SI/lib/python3.10/site-packages (from torch) (1.11.1)\n",
      "Requirement already satisfied: wheel in /home/rubensas/anaconda3/envs/MEI_SI/lib/python3.10/site-packages (from nvidia-cublas-cu11==11.10.3.66->torch) (0.38.4)\n",
      "Requirement already satisfied: setuptools in /home/rubensas/anaconda3/envs/MEI_SI/lib/python3.10/site-packages (from nvidia-cublas-cu11==11.10.3.66->torch) (67.5.1)\n",
      "Requirement already satisfied: cmake in /home/rubensas/.local/lib/python3.10/site-packages (from triton==2.0.0->torch) (3.26.3)\n",
      "Requirement already satisfied: lit in /home/rubensas/anaconda3/envs/MEI_SI/lib/python3.10/site-packages (from triton==2.0.0->torch) (15.0.7)\n",
      "Requirement already satisfied: numpy in /home/rubensas/anaconda3/envs/MEI_SI/lib/python3.10/site-packages (from torchvision) (1.23.5)\n",
      "Requirement already satisfied: requests in /home/rubensas/anaconda3/envs/MEI_SI/lib/python3.10/site-packages (from torchvision) (2.28.2)\n",
      "Requirement already satisfied: pillow!=8.3.*,>=5.3.0 in /home/rubensas/anaconda3/envs/MEI_SI/lib/python3.10/site-packages (from torchvision) (9.4.0)\n",
      "Requirement already satisfied: MarkupSafe>=2.0 in /home/rubensas/anaconda3/envs/MEI_SI/lib/python3.10/site-packages (from jinja2->torch) (2.1.2)\n",
      "Requirement already satisfied: urllib3<1.27,>=1.21.1 in /home/rubensas/anaconda3/envs/MEI_SI/lib/python3.10/site-packages (from requests->torchvision) (1.26.14)\n",
      "Requirement already satisfied: certifi>=2017.4.17 in /home/rubensas/anaconda3/envs/MEI_SI/lib/python3.10/site-packages (from requests->torchvision) (2023.5.7)\n",
      "Requirement already satisfied: idna<4,>=2.5 in /home/rubensas/anaconda3/envs/MEI_SI/lib/python3.10/site-packages (from requests->torchvision) (3.4)\n",
      "Requirement already satisfied: charset-normalizer<4,>=2 in /home/rubensas/anaconda3/envs/MEI_SI/lib/python3.10/site-packages (from requests->torchvision) (2.1.1)\n",
      "Requirement already satisfied: mpmath>=0.19 in /home/rubensas/anaconda3/envs/MEI_SI/lib/python3.10/site-packages/mpmath-1.2.1-py3.10.egg (from sympy->torch) (1.2.1)\n",
      "Note: you may need to restart the kernel to use updated packages.\n",
      "Requirement already satisfied: matplotlib in /home/rubensas/anaconda3/envs/MEI_SI/lib/python3.10/site-packages (3.6.2)\n",
      "Requirement already satisfied: pillow>=6.2.0 in /home/rubensas/anaconda3/envs/MEI_SI/lib/python3.10/site-packages (from matplotlib) (9.4.0)\n",
      "Requirement already satisfied: cycler>=0.10 in /home/rubensas/anaconda3/envs/MEI_SI/lib/python3.10/site-packages (from matplotlib) (0.11.0)\n",
      "Requirement already satisfied: kiwisolver>=1.0.1 in /home/rubensas/anaconda3/envs/MEI_SI/lib/python3.10/site-packages (from matplotlib) (1.4.4)\n",
      "Requirement already satisfied: python-dateutil>=2.7 in /home/rubensas/anaconda3/envs/MEI_SI/lib/python3.10/site-packages (from matplotlib) (2.8.2)\n",
      "Requirement already satisfied: pyparsing>=2.2.1 in /home/rubensas/anaconda3/envs/MEI_SI/lib/python3.10/site-packages (from matplotlib) (3.0.9)\n",
      "Requirement already satisfied: contourpy>=1.0.1 in /home/rubensas/anaconda3/envs/MEI_SI/lib/python3.10/site-packages (from matplotlib) (1.0.7)\n",
      "Requirement already satisfied: packaging>=20.0 in /home/rubensas/.local/lib/python3.10/site-packages (from matplotlib) (20.9)\n",
      "Requirement already satisfied: numpy>=1.19 in /home/rubensas/anaconda3/envs/MEI_SI/lib/python3.10/site-packages (from matplotlib) (1.23.5)\n",
      "Requirement already satisfied: fonttools>=4.22.0 in /home/rubensas/anaconda3/envs/MEI_SI/lib/python3.10/site-packages (from matplotlib) (4.38.0)\n",
      "Requirement already satisfied: six>=1.5 in /home/rubensas/.local/lib/python3.10/site-packages (from python-dateutil>=2.7->matplotlib) (1.16.0)\n",
      "Note: you may need to restart the kernel to use updated packages.\n",
      "Requirement already satisfied: tensorboard in /home/rubensas/anaconda3/envs/MEI_SI/lib/python3.10/site-packages (2.10.0)\n",
      "Requirement already satisfied: google-auth<3,>=1.6.3 in /home/rubensas/.local/lib/python3.10/site-packages (from tensorboard) (2.18.0)\n",
      "Requirement already satisfied: markdown>=2.6.8 in /home/rubensas/anaconda3/envs/MEI_SI/lib/python3.10/site-packages (from tensorboard) (3.4.1)\n",
      "Requirement already satisfied: setuptools>=41.0.0 in /home/rubensas/anaconda3/envs/MEI_SI/lib/python3.10/site-packages (from tensorboard) (67.5.1)\n",
      "Requirement already satisfied: werkzeug>=1.0.1 in /home/rubensas/anaconda3/envs/MEI_SI/lib/python3.10/site-packages (from tensorboard) (2.2.3)\n",
      "Requirement already satisfied: grpcio>=1.24.3 in /home/rubensas/.local/lib/python3.10/site-packages (from tensorboard) (1.54.0)\n",
      "Requirement already satisfied: requests<3,>=2.21.0 in /home/rubensas/anaconda3/envs/MEI_SI/lib/python3.10/site-packages (from tensorboard) (2.28.2)\n",
      "Requirement already satisfied: numpy>=1.12.0 in /home/rubensas/anaconda3/envs/MEI_SI/lib/python3.10/site-packages (from tensorboard) (1.23.5)\n",
      "Requirement already satisfied: wheel>=0.26 in /home/rubensas/anaconda3/envs/MEI_SI/lib/python3.10/site-packages (from tensorboard) (0.38.4)\n",
      "Requirement already satisfied: tensorboard-data-server<0.7.0,>=0.6.0 in /home/rubensas/anaconda3/envs/MEI_SI/lib/python3.10/site-packages (from tensorboard) (0.6.1)\n",
      "Requirement already satisfied: google-auth-oauthlib<0.5,>=0.4.1 in /home/rubensas/anaconda3/envs/MEI_SI/lib/python3.10/site-packages (from tensorboard) (0.4.6)\n",
      "Requirement already satisfied: protobuf<3.20,>=3.9.2 in /home/rubensas/anaconda3/envs/MEI_SI/lib/python3.10/site-packages (from tensorboard) (3.19.6)\n",
      "Requirement already satisfied: tensorboard-plugin-wit>=1.6.0 in /home/rubensas/anaconda3/envs/MEI_SI/lib/python3.10/site-packages (from tensorboard) (1.8.1)\n",
      "Requirement already satisfied: absl-py>=0.4 in /home/rubensas/anaconda3/envs/MEI_SI/lib/python3.10/site-packages (from tensorboard) (1.4.0)\n",
      "Requirement already satisfied: rsa<5,>=3.1.4 in /home/rubensas/.local/lib/python3.10/site-packages (from google-auth<3,>=1.6.3->tensorboard) (4.9)\n",
      "Requirement already satisfied: urllib3<2.0 in /home/rubensas/anaconda3/envs/MEI_SI/lib/python3.10/site-packages (from google-auth<3,>=1.6.3->tensorboard) (1.26.14)\n",
      "Requirement already satisfied: cachetools<6.0,>=2.0.0 in /home/rubensas/.local/lib/python3.10/site-packages (from google-auth<3,>=1.6.3->tensorboard) (5.3.0)\n",
      "Requirement already satisfied: pyasn1-modules>=0.2.1 in /home/rubensas/.local/lib/python3.10/site-packages (from google-auth<3,>=1.6.3->tensorboard) (0.3.0)\n",
      "Requirement already satisfied: six>=1.9.0 in /home/rubensas/.local/lib/python3.10/site-packages (from google-auth<3,>=1.6.3->tensorboard) (1.16.0)\n",
      "Requirement already satisfied: requests-oauthlib>=0.7.0 in /home/rubensas/anaconda3/envs/MEI_SI/lib/python3.10/site-packages (from google-auth-oauthlib<0.5,>=0.4.1->tensorboard) (1.3.1)\n",
      "Requirement already satisfied: charset-normalizer<4,>=2 in /home/rubensas/anaconda3/envs/MEI_SI/lib/python3.10/site-packages (from requests<3,>=2.21.0->tensorboard) (2.1.1)\n",
      "Requirement already satisfied: certifi>=2017.4.17 in /home/rubensas/anaconda3/envs/MEI_SI/lib/python3.10/site-packages (from requests<3,>=2.21.0->tensorboard) (2023.5.7)\n",
      "Requirement already satisfied: idna<4,>=2.5 in /home/rubensas/anaconda3/envs/MEI_SI/lib/python3.10/site-packages (from requests<3,>=2.21.0->tensorboard) (3.4)\n",
      "Requirement already satisfied: MarkupSafe>=2.1.1 in /home/rubensas/anaconda3/envs/MEI_SI/lib/python3.10/site-packages (from werkzeug>=1.0.1->tensorboard) (2.1.2)\n",
      "Requirement already satisfied: pyasn1<0.6.0,>=0.4.6 in /home/rubensas/.local/lib/python3.10/site-packages (from pyasn1-modules>=0.2.1->google-auth<3,>=1.6.3->tensorboard) (0.5.0)\n",
      "Requirement already satisfied: oauthlib>=3.0.0 in /home/rubensas/anaconda3/envs/MEI_SI/lib/python3.10/site-packages (from requests-oauthlib>=0.7.0->google-auth-oauthlib<0.5,>=0.4.1->tensorboard) (3.2.2)\n",
      "Note: you may need to restart the kernel to use updated packages.\n",
      "Requirement already satisfied: stable-baselines3[extra]>=2.0.0a4 in /home/rubensas/anaconda3/envs/MEI_SI/lib/python3.10/site-packages (2.0.0a10)\n",
      "Requirement already satisfied: gymnasium==0.28.1 in /home/rubensas/anaconda3/envs/MEI_SI/lib/python3.10/site-packages (from stable-baselines3[extra]>=2.0.0a4) (0.28.1)\n",
      "Requirement already satisfied: cloudpickle in /home/rubensas/anaconda3/envs/MEI_SI/lib/python3.10/site-packages (from stable-baselines3[extra]>=2.0.0a4) (2.2.1)\n",
      "Requirement already satisfied: numpy>=1.20 in /home/rubensas/anaconda3/envs/MEI_SI/lib/python3.10/site-packages (from stable-baselines3[extra]>=2.0.0a4) (1.23.5)\n",
      "Requirement already satisfied: torch>=1.11 in /home/rubensas/.local/lib/python3.10/site-packages (from stable-baselines3[extra]>=2.0.0a4) (2.0.1)\n",
      "Requirement already satisfied: matplotlib in /home/rubensas/anaconda3/envs/MEI_SI/lib/python3.10/site-packages (from stable-baselines3[extra]>=2.0.0a4) (3.6.2)\n",
      "Requirement already satisfied: pandas in /home/rubensas/anaconda3/envs/MEI_SI/lib/python3.10/site-packages (from stable-baselines3[extra]>=2.0.0a4) (1.5.3)\n",
      "Requirement already satisfied: tqdm in /home/rubensas/anaconda3/envs/MEI_SI/lib/python3.10/site-packages (from stable-baselines3[extra]>=2.0.0a4) (4.65.0)\n",
      "Requirement already satisfied: pillow in /home/rubensas/anaconda3/envs/MEI_SI/lib/python3.10/site-packages (from stable-baselines3[extra]>=2.0.0a4) (9.4.0)\n",
      "Requirement already satisfied: psutil in /home/rubensas/anaconda3/envs/MEI_SI/lib/python3.10/site-packages (from stable-baselines3[extra]>=2.0.0a4) (5.9.4)\n",
      "Requirement already satisfied: rich in /home/rubensas/anaconda3/envs/MEI_SI/lib/python3.10/site-packages (from stable-baselines3[extra]>=2.0.0a4) (13.3.5)\n",
      "Requirement already satisfied: tensorboard>=2.9.1 in /home/rubensas/anaconda3/envs/MEI_SI/lib/python3.10/site-packages (from stable-baselines3[extra]>=2.0.0a4) (2.10.0)\n",
      "Collecting autorom[accept-rom-license]~=0.6.0\n",
      "  Using cached AutoROM-0.6.1-py3-none-any.whl (9.4 kB)\n",
      "Requirement already satisfied: pygame in /home/rubensas/anaconda3/envs/MEI_SI/lib/python3.10/site-packages (from stable-baselines3[extra]>=2.0.0a4) (2.4.0)\n",
      "Requirement already satisfied: shimmy[atari]~=0.2.1 in /home/rubensas/anaconda3/envs/MEI_SI/lib/python3.10/site-packages (from stable-baselines3[extra]>=2.0.0a4) (0.2.1)\n",
      "Requirement already satisfied: opencv-python in /home/rubensas/anaconda3/envs/MEI_SI/lib/python3.10/site-packages (from stable-baselines3[extra]>=2.0.0a4) (4.7.0.72)\n",
      "Requirement already satisfied: typing-extensions>=4.3.0 in /home/rubensas/anaconda3/envs/MEI_SI/lib/python3.10/site-packages (from gymnasium==0.28.1->stable-baselines3[extra]>=2.0.0a4) (4.4.0)\n",
      "Requirement already satisfied: farama-notifications>=0.0.1 in /home/rubensas/anaconda3/envs/MEI_SI/lib/python3.10/site-packages (from gymnasium==0.28.1->stable-baselines3[extra]>=2.0.0a4) (0.0.4)\n",
      "Requirement already satisfied: jax-jumpy>=1.0.0 in /home/rubensas/anaconda3/envs/MEI_SI/lib/python3.10/site-packages (from gymnasium==0.28.1->stable-baselines3[extra]>=2.0.0a4) (1.0.0)\n",
      "Requirement already satisfied: requests in /home/rubensas/anaconda3/envs/MEI_SI/lib/python3.10/site-packages (from autorom[accept-rom-license]~=0.6.0->stable-baselines3[extra]>=2.0.0a4) (2.28.2)\n",
      "Requirement already satisfied: click in /home/rubensas/anaconda3/envs/MEI_SI/lib/python3.10/site-packages (from autorom[accept-rom-license]~=0.6.0->stable-baselines3[extra]>=2.0.0a4) (8.1.3)\n",
      "Requirement already satisfied: AutoROM.accept-rom-license in /home/rubensas/anaconda3/envs/MEI_SI/lib/python3.10/site-packages (from autorom[accept-rom-license]~=0.6.0->stable-baselines3[extra]>=2.0.0a4) (0.6.1)\n",
      "Requirement already satisfied: ale-py~=0.8.1 in /home/rubensas/anaconda3/envs/MEI_SI/lib/python3.10/site-packages (from shimmy[atari]~=0.2.1->stable-baselines3[extra]>=2.0.0a4) (0.8.1)\n",
      "Requirement already satisfied: tensorboard-data-server<0.7.0,>=0.6.0 in /home/rubensas/anaconda3/envs/MEI_SI/lib/python3.10/site-packages (from tensorboard>=2.9.1->stable-baselines3[extra]>=2.0.0a4) (0.6.1)\n",
      "Requirement already satisfied: tensorboard-plugin-wit>=1.6.0 in /home/rubensas/anaconda3/envs/MEI_SI/lib/python3.10/site-packages (from tensorboard>=2.9.1->stable-baselines3[extra]>=2.0.0a4) (1.8.1)\n",
      "Requirement already satisfied: google-auth-oauthlib<0.5,>=0.4.1 in /home/rubensas/anaconda3/envs/MEI_SI/lib/python3.10/site-packages (from tensorboard>=2.9.1->stable-baselines3[extra]>=2.0.0a4) (0.4.6)\n",
      "Requirement already satisfied: absl-py>=0.4 in /home/rubensas/anaconda3/envs/MEI_SI/lib/python3.10/site-packages (from tensorboard>=2.9.1->stable-baselines3[extra]>=2.0.0a4) (1.4.0)\n",
      "Requirement already satisfied: protobuf<3.20,>=3.9.2 in /home/rubensas/anaconda3/envs/MEI_SI/lib/python3.10/site-packages (from tensorboard>=2.9.1->stable-baselines3[extra]>=2.0.0a4) (3.19.6)\n",
      "Requirement already satisfied: markdown>=2.6.8 in /home/rubensas/anaconda3/envs/MEI_SI/lib/python3.10/site-packages (from tensorboard>=2.9.1->stable-baselines3[extra]>=2.0.0a4) (3.4.1)\n",
      "Requirement already satisfied: werkzeug>=1.0.1 in /home/rubensas/anaconda3/envs/MEI_SI/lib/python3.10/site-packages (from tensorboard>=2.9.1->stable-baselines3[extra]>=2.0.0a4) (2.2.3)\n",
      "Requirement already satisfied: wheel>=0.26 in /home/rubensas/anaconda3/envs/MEI_SI/lib/python3.10/site-packages (from tensorboard>=2.9.1->stable-baselines3[extra]>=2.0.0a4) (0.38.4)\n",
      "Requirement already satisfied: grpcio>=1.24.3 in /home/rubensas/.local/lib/python3.10/site-packages (from tensorboard>=2.9.1->stable-baselines3[extra]>=2.0.0a4) (1.54.0)\n",
      "Requirement already satisfied: google-auth<3,>=1.6.3 in /home/rubensas/.local/lib/python3.10/site-packages (from tensorboard>=2.9.1->stable-baselines3[extra]>=2.0.0a4) (2.18.0)\n",
      "Requirement already satisfied: setuptools>=41.0.0 in /home/rubensas/anaconda3/envs/MEI_SI/lib/python3.10/site-packages (from tensorboard>=2.9.1->stable-baselines3[extra]>=2.0.0a4) (67.5.1)\n",
      "Requirement already satisfied: filelock in /home/rubensas/anaconda3/envs/MEI_SI/lib/python3.10/site-packages (from torch>=1.11->stable-baselines3[extra]>=2.0.0a4) (3.9.0)\n",
      "Requirement already satisfied: nvidia-cusolver-cu11==11.4.0.1 in /home/rubensas/.local/lib/python3.10/site-packages (from torch>=1.11->stable-baselines3[extra]>=2.0.0a4) (11.4.0.1)\n",
      "Requirement already satisfied: nvidia-cusparse-cu11==11.7.4.91 in /home/rubensas/.local/lib/python3.10/site-packages (from torch>=1.11->stable-baselines3[extra]>=2.0.0a4) (11.7.4.91)\n",
      "Requirement already satisfied: nvidia-nvtx-cu11==11.7.91 in /home/rubensas/.local/lib/python3.10/site-packages (from torch>=1.11->stable-baselines3[extra]>=2.0.0a4) (11.7.91)\n",
      "Requirement already satisfied: nvidia-curand-cu11==10.2.10.91 in /home/rubensas/.local/lib/python3.10/site-packages (from torch>=1.11->stable-baselines3[extra]>=2.0.0a4) (10.2.10.91)\n",
      "Requirement already satisfied: jinja2 in /home/rubensas/anaconda3/envs/MEI_SI/lib/python3.10/site-packages (from torch>=1.11->stable-baselines3[extra]>=2.0.0a4) (3.1.2)\n",
      "Requirement already satisfied: nvidia-cuda-nvrtc-cu11==11.7.99 in /home/rubensas/.local/lib/python3.10/site-packages (from torch>=1.11->stable-baselines3[extra]>=2.0.0a4) (11.7.99)\n",
      "Requirement already satisfied: nvidia-cudnn-cu11==8.5.0.96 in /home/rubensas/.local/lib/python3.10/site-packages (from torch>=1.11->stable-baselines3[extra]>=2.0.0a4) (8.5.0.96)\n",
      "Requirement already satisfied: nvidia-cuda-runtime-cu11==11.7.99 in /home/rubensas/.local/lib/python3.10/site-packages (from torch>=1.11->stable-baselines3[extra]>=2.0.0a4) (11.7.99)\n",
      "Requirement already satisfied: triton==2.0.0 in /home/rubensas/.local/lib/python3.10/site-packages (from torch>=1.11->stable-baselines3[extra]>=2.0.0a4) (2.0.0)\n",
      "Requirement already satisfied: nvidia-nccl-cu11==2.14.3 in /home/rubensas/.local/lib/python3.10/site-packages (from torch>=1.11->stable-baselines3[extra]>=2.0.0a4) (2.14.3)\n",
      "Requirement already satisfied: nvidia-cuda-cupti-cu11==11.7.101 in /home/rubensas/.local/lib/python3.10/site-packages (from torch>=1.11->stable-baselines3[extra]>=2.0.0a4) (11.7.101)\n",
      "Requirement already satisfied: nvidia-cublas-cu11==11.10.3.66 in /home/rubensas/.local/lib/python3.10/site-packages (from torch>=1.11->stable-baselines3[extra]>=2.0.0a4) (11.10.3.66)\n",
      "Requirement already satisfied: sympy in /home/rubensas/anaconda3/envs/MEI_SI/lib/python3.10/site-packages (from torch>=1.11->stable-baselines3[extra]>=2.0.0a4) (1.11.1)\n",
      "Requirement already satisfied: networkx in /home/rubensas/.local/lib/python3.10/site-packages (from torch>=1.11->stable-baselines3[extra]>=2.0.0a4) (3.1)\n",
      "Requirement already satisfied: nvidia-cufft-cu11==10.9.0.58 in /home/rubensas/.local/lib/python3.10/site-packages (from torch>=1.11->stable-baselines3[extra]>=2.0.0a4) (10.9.0.58)\n",
      "Requirement already satisfied: lit in /home/rubensas/anaconda3/envs/MEI_SI/lib/python3.10/site-packages (from triton==2.0.0->torch>=1.11->stable-baselines3[extra]>=2.0.0a4) (15.0.7)\n",
      "Requirement already satisfied: cmake in /home/rubensas/.local/lib/python3.10/site-packages (from triton==2.0.0->torch>=1.11->stable-baselines3[extra]>=2.0.0a4) (3.26.3)\n",
      "Requirement already satisfied: packaging>=20.0 in /home/rubensas/.local/lib/python3.10/site-packages (from matplotlib->stable-baselines3[extra]>=2.0.0a4) (20.9)\n",
      "Requirement already satisfied: cycler>=0.10 in /home/rubensas/anaconda3/envs/MEI_SI/lib/python3.10/site-packages (from matplotlib->stable-baselines3[extra]>=2.0.0a4) (0.11.0)\n",
      "Requirement already satisfied: python-dateutil>=2.7 in /home/rubensas/anaconda3/envs/MEI_SI/lib/python3.10/site-packages (from matplotlib->stable-baselines3[extra]>=2.0.0a4) (2.8.2)\n",
      "Requirement already satisfied: kiwisolver>=1.0.1 in /home/rubensas/anaconda3/envs/MEI_SI/lib/python3.10/site-packages (from matplotlib->stable-baselines3[extra]>=2.0.0a4) (1.4.4)\n",
      "Requirement already satisfied: fonttools>=4.22.0 in /home/rubensas/anaconda3/envs/MEI_SI/lib/python3.10/site-packages (from matplotlib->stable-baselines3[extra]>=2.0.0a4) (4.38.0)\n",
      "Requirement already satisfied: contourpy>=1.0.1 in /home/rubensas/anaconda3/envs/MEI_SI/lib/python3.10/site-packages (from matplotlib->stable-baselines3[extra]>=2.0.0a4) (1.0.7)\n",
      "Requirement already satisfied: pyparsing>=2.2.1 in /home/rubensas/anaconda3/envs/MEI_SI/lib/python3.10/site-packages (from matplotlib->stable-baselines3[extra]>=2.0.0a4) (3.0.9)\n",
      "Requirement already satisfied: pytz>=2020.1 in /home/rubensas/anaconda3/envs/MEI_SI/lib/python3.10/site-packages (from pandas->stable-baselines3[extra]>=2.0.0a4) (2022.7)\n",
      "Requirement already satisfied: markdown-it-py<3.0.0,>=2.2.0 in /home/rubensas/anaconda3/envs/MEI_SI/lib/python3.10/site-packages (from rich->stable-baselines3[extra]>=2.0.0a4) (2.2.0)\n",
      "Requirement already satisfied: pygments<3.0.0,>=2.13.0 in /home/rubensas/anaconda3/envs/MEI_SI/lib/python3.10/site-packages (from rich->stable-baselines3[extra]>=2.0.0a4) (2.14.0)\n",
      "Requirement already satisfied: importlib-resources in /home/rubensas/anaconda3/envs/MEI_SI/lib/python3.10/site-packages (from ale-py~=0.8.1->shimmy[atari]~=0.2.1->stable-baselines3[extra]>=2.0.0a4) (5.12.0)\n",
      "Requirement already satisfied: pyasn1-modules>=0.2.1 in /home/rubensas/.local/lib/python3.10/site-packages (from google-auth<3,>=1.6.3->tensorboard>=2.9.1->stable-baselines3[extra]>=2.0.0a4) (0.3.0)\n",
      "Requirement already satisfied: six>=1.9.0 in /home/rubensas/.local/lib/python3.10/site-packages (from google-auth<3,>=1.6.3->tensorboard>=2.9.1->stable-baselines3[extra]>=2.0.0a4) (1.16.0)\n",
      "Requirement already satisfied: rsa<5,>=3.1.4 in /home/rubensas/.local/lib/python3.10/site-packages (from google-auth<3,>=1.6.3->tensorboard>=2.9.1->stable-baselines3[extra]>=2.0.0a4) (4.9)\n",
      "Requirement already satisfied: urllib3<2.0 in /home/rubensas/anaconda3/envs/MEI_SI/lib/python3.10/site-packages (from google-auth<3,>=1.6.3->tensorboard>=2.9.1->stable-baselines3[extra]>=2.0.0a4) (1.26.14)\n",
      "Requirement already satisfied: cachetools<6.0,>=2.0.0 in /home/rubensas/.local/lib/python3.10/site-packages (from google-auth<3,>=1.6.3->tensorboard>=2.9.1->stable-baselines3[extra]>=2.0.0a4) (5.3.0)\n",
      "Requirement already satisfied: requests-oauthlib>=0.7.0 in /home/rubensas/anaconda3/envs/MEI_SI/lib/python3.10/site-packages (from google-auth-oauthlib<0.5,>=0.4.1->tensorboard>=2.9.1->stable-baselines3[extra]>=2.0.0a4) (1.3.1)\n",
      "Requirement already satisfied: mdurl~=0.1 in /home/rubensas/anaconda3/envs/MEI_SI/lib/python3.10/site-packages (from markdown-it-py<3.0.0,>=2.2.0->rich->stable-baselines3[extra]>=2.0.0a4) (0.1.2)\n",
      "Requirement already satisfied: charset-normalizer<4,>=2 in /home/rubensas/anaconda3/envs/MEI_SI/lib/python3.10/site-packages (from requests->autorom[accept-rom-license]~=0.6.0->stable-baselines3[extra]>=2.0.0a4) (2.1.1)\n",
      "Requirement already satisfied: certifi>=2017.4.17 in /home/rubensas/anaconda3/envs/MEI_SI/lib/python3.10/site-packages (from requests->autorom[accept-rom-license]~=0.6.0->stable-baselines3[extra]>=2.0.0a4) (2023.5.7)\n",
      "Requirement already satisfied: idna<4,>=2.5 in /home/rubensas/anaconda3/envs/MEI_SI/lib/python3.10/site-packages (from requests->autorom[accept-rom-license]~=0.6.0->stable-baselines3[extra]>=2.0.0a4) (3.4)\n",
      "Requirement already satisfied: MarkupSafe>=2.1.1 in /home/rubensas/anaconda3/envs/MEI_SI/lib/python3.10/site-packages (from werkzeug>=1.0.1->tensorboard>=2.9.1->stable-baselines3[extra]>=2.0.0a4) (2.1.2)\n",
      "Requirement already satisfied: mpmath>=0.19 in /home/rubensas/anaconda3/envs/MEI_SI/lib/python3.10/site-packages/mpmath-1.2.1-py3.10.egg (from sympy->torch>=1.11->stable-baselines3[extra]>=2.0.0a4) (1.2.1)\n",
      "Requirement already satisfied: pyasn1<0.6.0,>=0.4.6 in /home/rubensas/.local/lib/python3.10/site-packages (from pyasn1-modules>=0.2.1->google-auth<3,>=1.6.3->tensorboard>=2.9.1->stable-baselines3[extra]>=2.0.0a4) (0.5.0)\n",
      "Requirement already satisfied: oauthlib>=3.0.0 in /home/rubensas/anaconda3/envs/MEI_SI/lib/python3.10/site-packages (from requests-oauthlib>=0.7.0->google-auth-oauthlib<0.5,>=0.4.1->tensorboard>=2.9.1->stable-baselines3[extra]>=2.0.0a4) (3.2.2)\n",
      "Installing collected packages: autorom\n",
      "  Attempting uninstall: autorom\n",
      "    Found existing installation: AutoROM 0.4.2\n",
      "    Uninstalling AutoROM-0.4.2:\n",
      "      Successfully uninstalled AutoROM-0.4.2\n",
      "Successfully installed autorom-0.6.1\n",
      "Note: you may need to restart the kernel to use updated packages.\n",
      "Collecting scikit-image\n",
      "  Downloading scikit_image-0.21.0-cp310-cp310-manylinux_2_17_x86_64.manylinux2014_x86_64.whl (13.8 MB)\n",
      "\u001b[2K     \u001b[90m━━━━━━━━━━━━━━━━━━━━━━━━━━━━━━━━━━━━━━━━\u001b[0m \u001b[32m13.8/13.8 MB\u001b[0m \u001b[31m13.8 MB/s\u001b[0m eta \u001b[36m0:00:00\u001b[0m00:01\u001b[0m00:01\u001b[0m\n",
      "\u001b[?25hCollecting lazy_loader>=0.2\n",
      "  Downloading lazy_loader-0.2-py3-none-any.whl (8.6 kB)\n",
      "Collecting imageio>=2.27\n",
      "  Downloading imageio-2.31.0-py3-none-any.whl (313 kB)\n",
      "\u001b[2K     \u001b[90m━━━━━━━━━━━━━━━━━━━━━━━━━━━━━━━━━━━━━━\u001b[0m \u001b[32m313.2/313.2 kB\u001b[0m \u001b[31m13.6 MB/s\u001b[0m eta \u001b[36m0:00:00\u001b[0m\n",
      "\u001b[?25hRequirement already satisfied: scipy>=1.8 in /home/rubensas/anaconda3/envs/MEI_SI/lib/python3.10/site-packages (from scikit-image) (1.10.0)\n",
      "Requirement already satisfied: numpy>=1.21.1 in /home/rubensas/anaconda3/envs/MEI_SI/lib/python3.10/site-packages (from scikit-image) (1.23.5)\n",
      "Requirement already satisfied: networkx>=2.8 in /home/rubensas/.local/lib/python3.10/site-packages (from scikit-image) (3.1)\n",
      "Requirement already satisfied: pillow>=9.0.1 in /home/rubensas/anaconda3/envs/MEI_SI/lib/python3.10/site-packages (from scikit-image) (9.4.0)\n",
      "Collecting tifffile>=2022.8.12\n",
      "  Downloading tifffile-2023.4.12-py3-none-any.whl (219 kB)\n",
      "\u001b[2K     \u001b[90m━━━━━━━━━━━━━━━━━━━━━━━━━━━━━━━━━━━━━━━\u001b[0m \u001b[32m219.4/219.4 kB\u001b[0m \u001b[31m3.4 MB/s\u001b[0m eta \u001b[36m0:00:00\u001b[0m00:01\u001b[0m\n",
      "\u001b[?25hCollecting packaging>=21\n",
      "  Downloading packaging-23.1-py3-none-any.whl (48 kB)\n",
      "\u001b[2K     \u001b[90m━━━━━━━━━━━━━━━━━━━━━━━━━━━━━━━━━━━━━━━━\u001b[0m \u001b[32m48.9/48.9 kB\u001b[0m \u001b[31m9.7 MB/s\u001b[0m eta \u001b[36m0:00:00\u001b[0m\n",
      "\u001b[?25hCollecting PyWavelets>=1.1.1\n",
      "  Downloading PyWavelets-1.4.1-cp310-cp310-manylinux_2_17_x86_64.manylinux2014_x86_64.whl (6.8 MB)\n",
      "\u001b[2K     \u001b[90m━━━━━━━━━━━━━━━━━━━━━━━━━━━━━━━━━━━━━━━━\u001b[0m \u001b[32m6.8/6.8 MB\u001b[0m \u001b[31m16.2 MB/s\u001b[0m eta \u001b[36m0:00:00\u001b[0m00:01\u001b[0m00:01\u001b[0m\n",
      "\u001b[?25hInstalling collected packages: tifffile, PyWavelets, packaging, lazy_loader, imageio, scikit-image\n",
      "  Attempting uninstall: packaging\n",
      "    Found existing installation: packaging 20.9\n",
      "    Uninstalling packaging-20.9:\n",
      "      Successfully uninstalled packaging-20.9\n",
      "\u001b[31mERROR: pip's dependency resolver does not currently take into account all the packages that are installed. This behaviour is the source of the following dependency conflicts.\n",
      "nbconvert 7.2.9 requires beautifulsoup4, which is not installed.\u001b[0m\u001b[31m\n",
      "\u001b[0mSuccessfully installed PyWavelets-1.4.1 imageio-2.31.0 lazy_loader-0.2 packaging-23.1 scikit-image-0.21.0 tifffile-2023.4.12\n",
      "Note: you may need to restart the kernel to use updated packages.\n"
     ]
    }
   ],
   "source": [
    "%pip install gymnasium\n",
    "%pip install 'gymnasium[atari]'\n",
    "%pip install 'gymnasium[accept-rom-license]'\n",
    "%pip install 'shimmy>=0.2.1'\n",
    "%pip install torch torchvision torchaudio\n",
    "%pip install matplotlib\n",
    "%pip install tensorboard\n",
    "%pip install 'stable-baselines3[extra]>=2.0.0a4'\n",
    "%pip install scikit-image"
   ]
  },
  {
   "attachments": {},
   "cell_type": "markdown",
   "metadata": {},
   "source": [
    "# 2. Import Dependencies"
   ]
  },
  {
   "cell_type": "code",
   "execution_count": 10,
   "metadata": {},
   "outputs": [],
   "source": [
    "import gymnasium\n",
    "from gymnasium import spaces\n",
    "from gymnasium.spaces import Box\n",
    "\n",
    "import matplotlib.pyplot as plt\n",
    "from matplotlib import animation\n",
    "from IPython.display import clear_output\n",
    "\n",
    "import time\n",
    "import numpy as np\n",
    "from skimage.transform import resize\n",
    "\n",
    "import torch\n",
    "from torch import Tensor\n",
    "\n",
    "from models.models import UndergroundModel\n",
    "\n",
    "from stable_baselines3.common.callbacks import BaseCallback\n",
    "from torch.utils.tensorboard import SummaryWriter\n",
    "\n",
    "from stable_baselines3 import PPO\n",
    "from stable_baselines3.common.evaluation import evaluate_policy\n",
    "from stable_baselines3.common.torch_layers import BaseFeaturesExtractor"
   ]
  },
  {
   "attachments": {},
   "cell_type": "markdown",
   "metadata": {},
   "source": [
    "# 3. Utils"
   ]
  },
  {
   "cell_type": "code",
   "execution_count": 11,
   "metadata": {},
   "outputs": [],
   "source": [
    "def run_animation(experience_buffer):\n",
    "    \"\"\"Function to run animation\"\"\"\n",
    "    time_lag = 0.05  # Delay (in s) between frames\n",
    "    for experience in experience_buffer:\n",
    "        # Plot frame\n",
    "        clear_output(wait=True)\n",
    "        plt.imshow(experience['frame'])\n",
    "        plt.axis('off')\n",
    "        plt.show()\n",
    "\n",
    "        \n",
    "        print(f\"Episode: {experience['episode']}/{experience_buffer[-1]['episode']}\")\n",
    "        print(f\"Epoch: {experience['epoch']}/{experience_buffer[-1]['epoch']}\")\n",
    "        #print(f\"State: {experience['state']}\")\n",
    "        print(f\"Action: {experience['action']}\")\n",
    "        print(f\"Reward: {experience['reward']}\")\n",
    "        print(f\"Comulative Reward: {experience['com_reward']}\")\n",
    "        \n",
    "        # Pause animation\n",
    "        time.sleep(time_lag)"
   ]
  },
  {
   "cell_type": "code",
   "execution_count": 12,
   "metadata": {},
   "outputs": [],
   "source": [
    "def store_episode_as_gif(experience_buffer, filepath='animation.gif'):\n",
    "    \"\"\"Store episode as gif animation\"\"\"\n",
    "    fps = 5   # Set framew per seconds\n",
    "    dpi = 300  # Set dots per inch\n",
    "    interval = 50  # Interval between frames (in ms)\n",
    "\n",
    "    # Retrieve frames from experience buffer\n",
    "    frames = []\n",
    "    for experience in experience_buffer:\n",
    "        frames.append(experience['frame'])\n",
    "\n",
    "    # Fix frame size\n",
    "    plt.figure(figsize=(frames[0].shape[1] / dpi, frames[0].shape[0] / dpi), dpi=dpi)\n",
    "    patch = plt.imshow(frames[0])\n",
    "    plt.axis('off')\n",
    "\n",
    "    # Generate animation\n",
    "    def animate(i):\n",
    "        patch.set_data(frames[i])\n",
    "\n",
    "    anim = animation.FuncAnimation(plt.gcf(), animate, frames=len(frames), interval=interval)\n",
    "\n",
    "    # Save output as gif\n",
    "    anim.save(filepath, writer='imagemagick', fps=fps)"
   ]
  },
  {
   "attachments": {},
   "cell_type": "markdown",
   "metadata": {},
   "source": [
    "# 4. Create Base Environment"
   ]
  },
  {
   "cell_type": "code",
   "execution_count": 13,
   "metadata": {},
   "outputs": [
    {
     "name": "stdout",
     "output_type": "stream",
     "text": [
      "Environment is ready!\n"
     ]
    }
   ],
   "source": [
    "base_env = gymnasium.make('ALE/Pitfall-ram-v5', render_mode='rgb_array')\n",
    "if base_env.reset():\n",
    "    print('Environment is ready!')"
   ]
  },
  {
   "cell_type": "code",
   "execution_count": 14,
   "metadata": {},
   "outputs": [
    {
     "name": "stdout",
     "output_type": "stream",
     "text": [
      "State space: Box(0, 255, (128,), uint8)\n",
      "Action space: Discrete(18)\n",
      "Action space: ['NOOP', 'FIRE', 'UP', 'RIGHT', 'LEFT', 'DOWN', 'UPRIGHT', 'UPLEFT', 'DOWNRIGHT', 'DOWNLEFT', 'UPFIRE', 'RIGHTFIRE', 'LEFTFIRE', 'DOWNFIRE', 'UPRIGHTFIRE', 'UPLEFTFIRE', 'DOWNRIGHTFIRE', 'DOWNLEFTFIRE']\n",
      "Action: 16\n",
      "Reward: 0.0\n",
      "State done :False\n",
      "State info :{'lives': 3, 'episode_frame_number': 4, 'frame_number': 4}\n"
     ]
    },
    {
     "name": "stderr",
     "output_type": "stream",
     "text": [
      "/home/rubensas/anaconda3/envs/MEI_SI/lib/python3.10/site-packages/gymnasium/utils/passive_env_checker.py:364: UserWarning: \u001b[33mWARN: No render fps was declared in the environment (env.metadata['render_fps'] is None or not defined), rendering may occur at inconsistent fps.\u001b[0m\n",
      "  logger.warn(\n"
     ]
    },
    {
     "data": {
      "image/png": "[encoded data removed]",
      "text/plain": [
       "<Figure size 640x480 with 1 Axes>"
      ]
     },
     "metadata": {},
     "output_type": "display_data"
    }
   ],
   "source": [
    "def show_env_info(env):\n",
    "    # Print dimensions of state and action space\n",
    "    print(\"State space: {}\".format(base_env.observation_space))\n",
    "    print(f\"Action space: {env.action_space}\")\n",
    "    print(f\"Action space: {env.unwrapped.get_action_meanings()}\")\n",
    "\n",
    "    # Sample random action\n",
    "    action =env.action_space.sample()\n",
    "    print(\"Action: {}\".format(action))\n",
    "    next_state, reward, done, _, info = env.step(action)\n",
    "\n",
    "    # Print output\n",
    "    print(\"Reward: {}\".format(reward))\n",
    "    print(f\"State done :{done}\")\n",
    "    print(f\"State info :{info}\")\n",
    "\n",
    "    # Render and plot an environment frame\n",
    "    frame = env.render()\n",
    "    plt.imshow(frame)\n",
    "    plt.axis(\"off\")\n",
    "    plt.show()\n",
    "\n",
    "show_env_info(base_env)"
   ]
  },
  {
   "attachments": {},
   "cell_type": "markdown",
   "metadata": {},
   "source": [
    "# 5. Customize Environment"
   ]
  },
  {
   "cell_type": "code",
   "execution_count": 15,
   "metadata": {},
   "outputs": [
    {
     "data": {
      "text/plain": [
       "UndergroundModel(\n",
       "  (conv1): Conv2d(3, 16, kernel_size=(10, 10), stride=(1, 1), padding=(2, 2))\n",
       "  (conv2): Conv2d(16, 32, kernel_size=(10, 10), stride=(1, 1), padding=(1, 1))\n",
       "  (conv3): Conv2d(32, 64, kernel_size=(7, 7), stride=(1, 1), padding=(1, 1))\n",
       "  (fc1): Linear(in_features=7744, out_features=16, bias=True)\n",
       "  (fc2): Linear(in_features=16, out_features=16, bias=True)\n",
       "  (maxpool): MaxPool2d(kernel_size=2, stride=2, padding=0, dilation=1, ceil_mode=False)\n",
       "  (relu): ReLU()\n",
       ")"
      ]
     },
     "execution_count": 15,
     "metadata": {},
     "output_type": "execute_result"
    }
   ],
   "source": [
    "underground_model = UndergroundModel()\n",
    "underground_model.load_state_dict(torch.load('models/model.h5'))\n",
    "underground_model.eval()"
   ]
  },
  {
   "cell_type": "code",
   "execution_count": 16,
   "metadata": {},
   "outputs": [
    {
     "name": "stdout",
     "output_type": "stream",
     "text": [
      "Custom Environment is ready!\n"
     ]
    }
   ],
   "source": [
    "class CustomEnv(gymnasium.Wrapper):\n",
    "\n",
    "    def __init__(self, env, model):\n",
    "        super(CustomEnv, self).__init__(env)\n",
    "        self.env = env\n",
    "        self.model = model\n",
    "        self.lives = 3\n",
    "        self.last_room = None\n",
    "        self.is_zero_before = False\n",
    "        self.n_zeros_before = 0\n",
    "        self.observation_space = Box(shape=(130,130,3), low=int(0), high=int(255))\n",
    "        \n",
    "    def calculate_mse(self, img1, img2):\n",
    "        np_image1 = np.array(img1)\n",
    "        np_image2 = np.array(img2)\n",
    "        mse = np.mean((np_image1 - np_image2) ** 2)\n",
    "        return mse\n",
    "\n",
    "    def step(self, action):\n",
    "        next_state_ram, reward, done, truncated, info = self.env.step(action)\n",
    "        self.lives = info['lives']\n",
    "\n",
    "        # TODO: Resize image to 130x130 and convert to grayscale\n",
    "        next_state_img = self.env.render()\n",
    "        next_state_img = resize(next_state_img,(130,130))\n",
    "        underground_prediction = self.make_underground_prediction(next_state_img)\n",
    "        if underground_prediction == 1:\n",
    "            reward -= 1\n",
    "\n",
    "        # Try to detect death ASAP\n",
    "        mse_score = None\n",
    "        if self.last_room is not None:\n",
    "            mse_score = self.calculate_mse(self.last_room, next_state_img)\n",
    "            if mse_score == 0:\n",
    "                if self.is_zero_before and self.n_zeros_before > 5:\n",
    "                    reward -= 100\n",
    "                    self.n_zeros_before = -9999\n",
    "                \n",
    "                self.is_zero_before = True\n",
    "                self.n_zeros_before += 1\n",
    "                \n",
    "            else:\n",
    "                self.is_zero_before = False\n",
    "                self.n_zeros_before = 0\n",
    "        \n",
    "        self.last_room = next_state_img\n",
    "        return next_state_img, reward, done, truncated, info\n",
    "\n",
    "    def reset(self,seed=None):\n",
    "        if seed:\n",
    "            _,info = self.env.reset(seed=seed)\n",
    "        else:\n",
    "            _,info = self.env.reset()\n",
    "        img = self.env.render()\n",
    "        img = resize(img,(130,130))\n",
    "        return (img,info)\n",
    "        \n",
    "\n",
    "    def make_underground_prediction(self, img):\n",
    "        '''Checks if player is underground'''\n",
    "        img = self.preprocessar(img)\n",
    "        img = img.astype(np.float32)\n",
    "        img = Tensor(img)\n",
    "        img = img.reshape(1,3,130,130)\n",
    "        pred = self.model(img)\n",
    "        pred = pred.detach().cpu().detach().numpy()[0].argmax()\n",
    "        return pred\n",
    "\n",
    "    def preprocessar(self,imagem):\n",
    "        imagem = np.array(imagem)\n",
    "        data_mean = np.mean(imagem)\n",
    "        data_std = np.std(imagem)\n",
    "        imagem = (imagem - data_mean) / data_std\n",
    "        xmax, xmin = imagem.max(), imagem.min()\n",
    "        imagem = (imagem - xmin)/(xmax - xmin)\n",
    "        imagem = imagem.transpose(2,1,0)\n",
    "        return imagem\n",
    "\n",
    "env = CustomEnv(base_env, underground_model)\n",
    "if env.reset():\n",
    "    print('Custom Environment is ready!')"
   ]
  },
  {
   "attachments": {},
   "cell_type": "markdown",
   "metadata": {},
   "source": [
    "# 6. Custom Model: Define and Train"
   ]
  },
  {
   "cell_type": "code",
   "execution_count": 17,
   "metadata": {},
   "outputs": [
    {
     "name": "stdout",
     "output_type": "stream",
     "text": [
      "Number of actions: 18, Actions: ['NOOP', 'FIRE', 'UP', 'RIGHT', 'LEFT', 'DOWN', 'UPRIGHT', 'UPLEFT', 'DOWNRIGHT', 'DOWNLEFT', 'UPFIRE', 'RIGHTFIRE', 'LEFTFIRE', 'DOWNFIRE', 'UPRIGHTFIRE', 'UPLEFTFIRE', 'DOWNRIGHTFIRE', 'DOWNLEFTFIRE']\n"
     ]
    }
   ],
   "source": [
    "# Print action space and number of actions\n",
    "n_actions = env.action_space.n\n",
    "actions = env.unwrapped.get_action_meanings()\n",
    "print(f\"Number of actions: {n_actions}, Actions: {actions}\")"
   ]
  },
  {
   "cell_type": "code",
   "execution_count": 27,
   "metadata": {},
   "outputs": [],
   "source": [
    "class CustomCNN(BaseFeaturesExtractor):\n",
    "    def __init__(self, observation_space: spaces.Box, features_dim: int = 256):\n",
    "        super().__init__(observation_space, features_dim)\n",
    "        n_input_channels = observation_space.shape[0]\n",
    "        \n",
    "        self.cnn = torch.nn.Sequential(\n",
    "            torch.nn.Conv2d(n_input_channels, 32, kernel_size=3, stride=1, padding=1),\n",
    "            torch.nn.ReLU(),\n",
    "            torch.nn.MaxPool2d(kernel_size=2, stride=2, padding=1),\n",
    "            torch.nn.Conv2d(32, 64, kernel_size=3, stride=1, padding=1),\n",
    "            torch.nn.ReLU(),\n",
    "            torch.nn.MaxPool2d(kernel_size=2, stride=2),\n",
    "            torch.nn.Conv2d(64, 128, kernel_size=3, stride=1, padding=1),\n",
    "            torch.nn.ReLU(),\n",
    "            torch.nn.MaxPool2d(kernel_size=2, stride=2, padding=1),\n",
    "            torch.nn.Flatten(),\n",
    "        )\n",
    "        \n",
    "\n",
    "        # Compute shape by doing one forward pass\n",
    "        with torch.no_grad():\n",
    "            n_flatten = self.cnn(\n",
    "                torch.as_tensor(observation_space.sample()[None]).float()\n",
    "            ).shape[1]\n",
    "\n",
    "\n",
    "        self.linear = torch.nn.Sequential(\n",
    "            torch.nn.Linear(n_flatten, features_dim),\n",
    "            torch.nn.ReLU()\n",
    "        )\n",
    "\n",
    "    def forward(self, observations: torch.Tensor) -> torch.Tensor:\n",
    "        return self.linear(self.cnn(observations))\n"
   ]
  },
  {
   "cell_type": "code",
   "execution_count": 28,
   "metadata": {},
   "outputs": [
    {
     "name": "stdout",
     "output_type": "stream",
     "text": [
      "Using cuda device\n",
      "Wrapping the env with a `Monitor` wrapper\n",
      "Wrapping the env in a DummyVecEnv.\n"
     ]
    }
   ],
   "source": [
    "policy_kwargs = dict(\n",
    "    features_extractor_class=CustomCNN,\n",
    "    features_extractor_kwargs=dict(features_dim=128),\n",
    ")\n",
    "model = PPO(\"CnnPolicy\", env, policy_kwargs=policy_kwargs, verbose=1)"
   ]
  },
  {
   "cell_type": "code",
   "execution_count": 29,
   "metadata": {},
   "outputs": [],
   "source": [
    "class TensorboardCallback(BaseCallback):\n",
    "    def __init__(self, log_dir, verbose=0):\n",
    "        super(TensorboardCallback, self).__init__(verbose)\n",
    "        self.writer = SummaryWriter(log_dir=log_dir)\n",
    "\n",
    "    def _on_step(self) -> bool:\n",
    "        # Log training metrics\n",
    "        self.writer.add_scalar(\"Loss\", self.locals[\"values\"].item(), self.num_timesteps)\n",
    "        self.writer.add_scalar(\"Reward\", self.locals[\"rewards\"][0], self.num_timesteps)\n",
    "\n",
    "        return True\n",
    "\n",
    "    def _on_training_end(self) -> None:\n",
    "        # Close the SummaryWriter after training\n",
    "        self.writer.close()\n",
    "\n",
    "# Specify the log directory where TensorBoard files will be saved\n",
    "log_dir = \"logs/\"\n",
    "\n",
    "# Create a TensorboardCallback\n",
    "tensorboard_callback = TensorboardCallback(log_dir=log_dir)"
   ]
  },
  {
   "cell_type": "code",
   "execution_count": 30,
   "metadata": {},
   "outputs": [
    {
     "name": "stdout",
     "output_type": "stream",
     "text": [
      "---------------------------------\n",
      "| rollout/           |          |\n",
      "|    ep_len_mean     | 663      |\n",
      "|    ep_rew_mean     | -394     |\n",
      "| time/              |          |\n",
      "|    fps             | 47       |\n",
      "|    iterations      | 1        |\n",
      "|    time_elapsed    | 42       |\n",
      "|    total_timesteps | 2048     |\n",
      "---------------------------------\n"
     ]
    }
   ],
   "source": [
    "# Train the agent\n",
    "model.learn(total_timesteps=100, callback=tensorboard_callback)\n",
    "\n",
    "# Save the model\n",
    "model.save(\"models/(local) ppo_pitfall\")"
   ]
  },
  {
   "attachments": {},
   "cell_type": "markdown",
   "metadata": {},
   "source": [
    "# 7. Test Model"
   ]
  },
  {
   "cell_type": "code",
   "execution_count": 31,
   "metadata": {},
   "outputs": [
    {
     "data": {
      "image/png": "[encoded data removed]",
      "text/plain": [
       "<Figure size 640x480 with 1 Axes>"
      ]
     },
     "metadata": {},
     "output_type": "display_data"
    },
    {
     "name": "stdout",
     "output_type": "stream",
     "text": [
      "Episode: 2348/2348\n",
      "Epoch: 2/2\n",
      "Action: 9\n",
      "Reward: 0.0\n",
      "Comulative Reward: -260.0\n",
      "MSE Score: 0.0001885045387592731\n"
     ]
    },
    {
     "data": {
      "image/png": "[encoded data removed]",
      "text/plain": [
       "<Figure size 160x210 with 1 Axes>"
      ]
     },
     "metadata": {},
     "output_type": "display_data"
    }
   ],
   "source": [
    "# Start by loading the model\n",
    "model = PPO.load(\"models/(local) ppo_pitfall\")\n",
    "\n",
    "experience_buffer = []\n",
    "obs = env.reset()[0]\n",
    "com_reward = 0\n",
    "terminated = False\n",
    "epoch = 0\n",
    "\n",
    "start_time = time.time()\n",
    "\n",
    "while epoch <= 1:\n",
    "    epoch += 1\n",
    "    while not terminated:\n",
    "        action, _ = model.predict(obs)\n",
    "        next_obs, reward, terminated, truncated, info = env.step(action)\n",
    "        com_reward += reward\n",
    "\n",
    "        experience_buffer.append({\n",
    "            'episode': info['episode_frame_number'],\n",
    "            'epoch': epoch,\n",
    "            'frame': env.render(),\n",
    "            'action': action,\n",
    "            'reward': reward,\n",
    "            'state': obs,\n",
    "            'com_reward': com_reward,\n",
    "        })\n",
    "        \n",
    "        obs = next_obs\n",
    "        \n",
    "        if time.time() - start_time > 10:\n",
    "            break\n",
    "\n",
    "run_animation(experience_buffer)\n",
    "store_episode_as_gif(experience_buffer, filepath='animation.gif')"
   ]
  }
 ],
 "metadata": {
  "kernelspec": {
   "display_name": "MEI_SI",
   "language": "python",
   "name": "python3"
  },
  "language_info": {
   "codemirror_mode": {
    "name": "ipython",
    "version": 3
   },
   "file_extension": ".py",
   "mimetype": "text/x-python",
   "name": "python",
   "nbconvert_exporter": "python",
   "pygments_lexer": "ipython3",
   "version": "3.10.4"
  },
  "orig_nbformat": 4
 },
 "nbformat": 4,
 "nbformat_minor": 2
}
